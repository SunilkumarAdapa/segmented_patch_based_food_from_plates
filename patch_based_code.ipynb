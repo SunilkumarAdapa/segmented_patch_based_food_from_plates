{
 "cells": [
  {
   "cell_type": "code",
   "execution_count": 1,
   "id": "0567e22d-4848-4af0-b242-7c6ed811f9c6",
   "metadata": {},
   "outputs": [
    {
     "name": "stderr",
     "output_type": "stream",
     "text": [
      "100%|██████████| 40/40 [00:19<00:00,  2.07it/s]"
     ]
    },
    {
     "name": "stdout",
     "output_type": "stream",
     "text": [
      "✅ All patches saved by label!\n"
     ]
    },
    {
     "name": "stderr",
     "output_type": "stream",
     "text": [
      "\n"
     ]
    }
   ],
   "source": [
    "import os\n",
    "import json\n",
    "import cv2\n",
    "from tqdm import tqdm\n",
    "\n",
    "# Paths\n",
    "image_dir = r\"C:\\Users\\ADAPA SUNIL KUMAR\\Desktop\\AIG FOOD PROJECT\\For_classification_data\\images\\default\"\n",
    "annotation_file = r\"C:\\Users\\ADAPA SUNIL KUMAR\\Desktop\\AIG FOOD PROJECT\\For_classification_data\\annotations\\instances_default.json\"\n",
    "output_dir = r\"C:\\Users\\ADAPA SUNIL KUMAR\\Desktop\\AIG FOOD PROJECT\\For_classification_data\\output_patch\"\n",
    "\n",
    "# Load COCO JSON\n",
    "with open(annotation_file) as f:\n",
    "    data = json.load(f)\n",
    "\n",
    "# Maps for lookup\n",
    "image_id_to_filename = {img['id']: img['file_name'] for img in data['images']}\n",
    "category_id_to_name = {cat['id']: cat['name'] for cat in data['categories']}\n",
    "\n",
    "# Group annotations by image_id\n",
    "from collections import defaultdict\n",
    "image_annotations = defaultdict(list)\n",
    "for ann in data['annotations']:\n",
    "    image_annotations[ann['image_id']].append(ann)\n",
    "\n",
    "# Process each image\n",
    "for image_id, anns in tqdm(image_annotations.items()):\n",
    "    img_path = os.path.join(image_dir, image_id_to_filename[image_id])\n",
    "    img = cv2.imread(img_path)\n",
    "    if img is None:\n",
    "        print(f\"⚠️ Could not read {img_path}\")\n",
    "        continue\n",
    "\n",
    "    for idx, ann in enumerate(anns):\n",
    "        x, y, w, h = map(int, ann['bbox'])\n",
    "        category = category_id_to_name[ann['category_id']]\n",
    "\n",
    "        patch = img[y:y+h, x:x+w]\n",
    "\n",
    "        # Save patch\n",
    "        category_folder = os.path.join(output_dir, category)\n",
    "        os.makedirs(category_folder, exist_ok=True)\n",
    "\n",
    "        patch_filename = f\"{os.path.splitext(image_id_to_filename[image_id])[0]}_patch{idx}.jpg\"\n",
    "        patch_path = os.path.join(category_folder, patch_filename)\n",
    "        cv2.imwrite(patch_path, patch)\n",
    "\n",
    "print(\"✅ All patches saved by label!\")\n"
   ]
  },
  {
   "cell_type": "code",
   "execution_count": null,
   "id": "2630441a-369e-460c-b5b5-e1732a0ec927",
   "metadata": {},
   "outputs": [],
   "source": []
  }
 ],
 "metadata": {
  "kernelspec": {
   "display_name": "Python 3 (ipykernel)",
   "language": "python",
   "name": "python3"
  },
  "language_info": {
   "codemirror_mode": {
    "name": "ipython",
    "version": 3
   },
   "file_extension": ".py",
   "mimetype": "text/x-python",
   "name": "python",
   "nbconvert_exporter": "python",
   "pygments_lexer": "ipython3",
   "version": "3.12.7"
  }
 },
 "nbformat": 4,
 "nbformat_minor": 5
}
